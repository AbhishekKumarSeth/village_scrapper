{
 "cells": [
  {
   "cell_type": "code",
   "execution_count": 1,
   "id": "3bbcb8b0-193b-4abc-9562-334672970c3a",
   "metadata": {},
   "outputs": [],
   "source": [
    "import pandas as pd"
   ]
  },
  {
   "cell_type": "code",
   "execution_count": 6,
   "id": "b0060b06-7d30-4093-b3e1-dab1ed40a9e1",
   "metadata": {},
   "outputs": [],
   "source": [
    "andman_df = pd.read_csv('Andaman and Nicobar Islands_village_list.csv')"
   ]
  },
  {
   "cell_type": "code",
   "execution_count": null,
   "id": "1ae562cf-f8fa-48b5-8474-a11827b1ffa6",
   "metadata": {},
   "outputs": [],
   "source": [
    "andman_df"
   ]
  },
  {
   "cell_type": "code",
   "execution_count": 9,
   "id": "38dc538d-4045-48ab-8f8c-6fd500148b21",
   "metadata": {},
   "outputs": [],
   "source": [
    "andhrapradesh_df = pd.read_csv('Andhra Pradesh_village_list.csv')"
   ]
  },
  {
   "cell_type": "code",
   "execution_count": null,
   "id": "8d9564fe-699e-499f-8b2d-cecff7df6b3f",
   "metadata": {},
   "outputs": [],
   "source": [
    "andhrapradesh_df"
   ]
  },
  {
   "cell_type": "code",
   "execution_count": 11,
   "id": "101be3d4-eba2-4d76-80cc-f498470625c2",
   "metadata": {},
   "outputs": [],
   "source": [
    "arnuchalPradesh_df = pd.read_csv('Arunachal Pradesh_village_list.csv')"
   ]
  },
  {
   "cell_type": "code",
   "execution_count": null,
   "id": "077ca9c9-f57c-4d4a-8506-d7a83aa9f316",
   "metadata": {},
   "outputs": [],
   "source": [
    "arnuchalPradesh_df"
   ]
  },
  {
   "cell_type": "code",
   "execution_count": 23,
   "id": "112b1788-f4fd-4f9f-9974-345e043ac9f7",
   "metadata": {},
   "outputs": [],
   "source": [
    "assam_df = pd.read_csv('Assam_village_list.csv')"
   ]
  },
  {
   "cell_type": "code",
   "execution_count": null,
   "id": "5447194a-9720-4d03-a0d7-73eddeac6062",
   "metadata": {},
   "outputs": [],
   "source": [
    "assam_df"
   ]
  },
  {
   "cell_type": "code",
   "execution_count": null,
   "id": "8648227a-59cc-4a9d-91b7-d31b44406ee6",
   "metadata": {},
   "outputs": [],
   "source": [
    "bihar_chandigarh_df = pd.read_csv('Chandigarh_village_list.csv')"
   ]
  },
  {
   "cell_type": "code",
   "execution_count": null,
   "id": "34a55121-94be-444b-8e08-4765a44dab28",
   "metadata": {},
   "outputs": [],
   "source": [
    "bihar_chandigarh_df"
   ]
  },
  {
   "cell_type": "code",
   "execution_count": 15,
   "id": "77089f01-8f49-4e59-b259-4c8e754afd0f",
   "metadata": {},
   "outputs": [],
   "source": [
    "chhatishgarh_df = pd.read_csv('Chhattisgarh_village_list.csv')"
   ]
  },
  {
   "cell_type": "code",
   "execution_count": null,
   "id": "c52ac524-0639-40fc-9ab1-75ac2e262b99",
   "metadata": {},
   "outputs": [],
   "source": [
    "chhatishgarh_df"
   ]
  },
  {
   "cell_type": "code",
   "execution_count": 17,
   "id": "ca17e0e6-b4ad-4c86-a9f1-282f369834dc",
   "metadata": {},
   "outputs": [],
   "source": [
    "except_above_state_df = pd.read_csv('West Bengal_village_list.csv')"
   ]
  },
  {
   "cell_type": "code",
   "execution_count": null,
   "id": "11f6560b-d422-45dd-bab5-ae1ab4c92c57",
   "metadata": {},
   "outputs": [],
   "source": [
    "except_above_state_df"
   ]
  },
  {
   "cell_type": "code",
   "execution_count": 25,
   "id": "1e09547e-c25e-4572-85ef-579114d4bc26",
   "metadata": {
    "tags": []
   },
   "outputs": [],
   "source": [
    "final_df = pd.concat([andman_df,andhrapradesh_df,arnuchalPradesh_df,assam_df,bihar_chandigarh_df,chhatishgarh_df,except_above_state_df])"
   ]
  },
  {
   "cell_type": "code",
   "execution_count": null,
   "id": "6ad7a040-228e-41d2-bc07-521aa8a588c5",
   "metadata": {},
   "outputs": [],
   "source": [
    "final_df.info()"
   ]
  },
  {
   "cell_type": "code",
   "execution_count": 50,
   "id": "887ffd22-fbfe-4fe5-8110-364b160f7e37",
   "metadata": {},
   "outputs": [],
   "source": [
    "header = [\"State\", \"District\", \"Sub-District\", \"Village Name\", \"Village Code\"]"
   ]
  },
  {
   "cell_type": "code",
   "execution_count": 53,
   "id": "eed5fb93-6159-466c-b250-75f39853a4c2",
   "metadata": {
    "tags": []
   },
   "outputs": [],
   "source": [
    "final_df.to_csv('all_village.csv', columns=header, index=False)"
   ]
  },
  {
   "cell_type": "code",
   "execution_count": 54,
   "id": "fe6029d7-e8e4-48a4-b371-b3ccabfb6441",
   "metadata": {
    "tags": []
   },
   "outputs": [
    {
     "name": "stdout",
     "output_type": "stream",
     "text": [
      "<class 'pandas.core.frame.DataFrame'>\n",
      "Int64Index: 654648 entries, 0 to 523275\n",
      "Data columns (total 6 columns):\n",
      " #   Column        Non-Null Count   Dtype \n",
      "---  ------        --------------   ----- \n",
      " 0   index         654648 non-null  int64 \n",
      " 1   State         654648 non-null  object\n",
      " 2   District      654648 non-null  object\n",
      " 3   Sub-District  654648 non-null  object\n",
      " 4   Village Name  654648 non-null  object\n",
      " 5   Village Code  654648 non-null  int64 \n",
      "dtypes: int64(2), object(4)\n",
      "memory usage: 51.1+ MB\n"
     ]
    }
   ],
   "source": [
    "final_df.info()"
   ]
  },
  {
   "cell_type": "code",
   "execution_count": null,
   "id": "a8e0f86e-ceea-48ee-8ab5-66626cbc36d0",
   "metadata": {},
   "outputs": [],
   "source": []
  }
 ],
 "metadata": {
  "kernelspec": {
   "display_name": "Python 3",
   "language": "python",
   "name": "python3"
  },
  "language_info": {
   "codemirror_mode": {
    "name": "ipython",
    "version": 3
   },
   "file_extension": ".py",
   "mimetype": "text/x-python",
   "name": "python",
   "nbconvert_exporter": "python",
   "pygments_lexer": "ipython3",
   "version": "3.9.5"
  }
 },
 "nbformat": 4,
 "nbformat_minor": 5
}
