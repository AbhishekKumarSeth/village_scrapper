{
 "cells": [
  {
   "cell_type": "code",
   "execution_count": 58,
   "source": [
    "!pip install beautifulsoup4"
   ],
   "outputs": [
    {
     "output_type": "stream",
     "name": "stdout",
     "text": [
      "Requirement already satisfied: beautifulsoup4 in c:\\poc\\sysbackup\\hsbc_env\\lib\\site-packages (4.9.3)\n",
      "Requirement already satisfied: soupsieve>1.2 in c:\\poc\\sysbackup\\hsbc_env\\lib\\site-packages (from beautifulsoup4) (2.2.1)\n"
     ]
    },
    {
     "output_type": "stream",
     "name": "stderr",
     "text": [
      "WARNING: You are using pip version 21.1.1; however, version 21.1.2 is available.\n",
      "You should consider upgrading via the 'C:\\POC\\sysbackup\\hsbc_env\\Scripts\\python.exe -m pip install --upgrade pip' command.\n"
     ]
    }
   ],
   "metadata": {}
  },
  {
   "cell_type": "code",
   "execution_count": 59,
   "source": [
    "!pip install lxml"
   ],
   "outputs": [
    {
     "output_type": "stream",
     "name": "stdout",
     "text": [
      "Requirement already satisfied: lxml in c:\\poc\\sysbackup\\hsbc_env\\lib\\site-packages (4.6.3)\n"
     ]
    },
    {
     "output_type": "stream",
     "name": "stderr",
     "text": [
      "WARNING: You are using pip version 21.1.1; however, version 21.1.2 is available.\n",
      "You should consider upgrading via the 'C:\\POC\\sysbackup\\hsbc_env\\Scripts\\python.exe -m pip install --upgrade pip' command.\n"
     ]
    }
   ],
   "metadata": {}
  },
  {
   "cell_type": "code",
   "execution_count": 60,
   "source": [
    "!pip install future"
   ],
   "outputs": [
    {
     "output_type": "stream",
     "name": "stdout",
     "text": [
      "Requirement already satisfied: future in c:\\poc\\sysbackup\\hsbc_env\\lib\\site-packages (0.18.2)\n"
     ]
    },
    {
     "output_type": "stream",
     "name": "stderr",
     "text": [
      "WARNING: You are using pip version 21.1.1; however, version 21.1.2 is available.\n",
      "You should consider upgrading via the 'C:\\POC\\sysbackup\\hsbc_env\\Scripts\\python.exe -m pip install --upgrade pip' command.\n"
     ]
    }
   ],
   "metadata": {}
  },
  {
   "cell_type": "code",
   "execution_count": 3,
   "source": [
    "!pip install requests"
   ],
   "outputs": [
    {
     "output_type": "stream",
     "name": "stdout",
     "text": [
      "Requirement already satisfied: requests in c:\\poc\\sysbackup\\hsbc_env\\lib\\site-packages (2.25.1)\n",
      "Requirement already satisfied: idna<3,>=2.5 in c:\\poc\\sysbackup\\hsbc_env\\lib\\site-packages (from requests) (2.10)\n",
      "Requirement already satisfied: urllib3<1.27,>=1.21.1 in c:\\poc\\sysbackup\\hsbc_env\\lib\\site-packages (from requests) (1.26.5)\n",
      "Requirement already satisfied: chardet<5,>=3.0.2 in c:\\poc\\sysbackup\\hsbc_env\\lib\\site-packages (from requests) (4.0.0)\n",
      "Requirement already satisfied: certifi>=2017.4.17 in c:\\poc\\sysbackup\\hsbc_env\\lib\\site-packages (from requests) (2021.5.30)\n"
     ]
    },
    {
     "output_type": "stream",
     "name": "stderr",
     "text": [
      "WARNING: You are using pip version 21.1.1; however, version 21.1.2 is available.\n",
      "You should consider upgrading via the 'C:\\POC\\sysbackup\\hsbc_env\\Scripts\\python.exe -m pip install --upgrade pip' command.\n"
     ]
    }
   ],
   "metadata": {}
  },
  {
   "cell_type": "code",
   "execution_count": 1,
   "source": [
    "import requests\r\n",
    "import json\r\n",
    "import pandas as pd\r\n",
    "from bs4 import BeautifulSoup\r\n",
    "import time"
   ],
   "outputs": [],
   "metadata": {}
  },
  {
   "cell_type": "code",
   "execution_count": 2,
   "source": [
    "def get_html_from_url(url):\r\n",
    "    res = requests.get(url)\r\n",
    "    return res\r\n",
    "\r\n",
    "\r\n",
    "\r\n",
    "def get_link_from_html_content(html_content):\r\n",
    "    soup = BeautifulSoup(html_content, features=\"lxml\")\r\n",
    "    links = soup.find_all('a')\r\n",
    "    return links"
   ],
   "outputs": [],
   "metadata": {}
  },
  {
   "cell_type": "markdown",
   "source": [
    "## Get All State"
   ],
   "metadata": {}
  },
  {
   "cell_type": "code",
   "execution_count": 3,
   "source": [
    "res = get_html_from_url('https://vlist.in/')\r\n",
    "print(res.status_code)\r\n",
    "\r\n",
    "state_html = res.content\r\n",
    "\r\n",
    "state_links = get_link_from_html_content(state_html)\r\n",
    "\r\n",
    "state_list = []\r\n",
    "for state_link in state_links:\r\n",
    "    state_name = state_link.contents[0]\r\n",
    "    state_link = state_link.get('href')\r\n",
    "    \r\n",
    "    state_info = {\r\n",
    "        \"state_name\": state_name,\r\n",
    "        \"state_link\":state_name,\r\n",
    "    }\r\n",
    "    \r\n",
    "    state_list.append(state_info)\r\n",
    "    \r\n",
    "state_df = pd.DataFrame(state_list)\r\n",
    "state_df.to_csv('state_list.csv')"
   ],
   "outputs": [
    {
     "output_type": "stream",
     "name": "stdout",
     "text": [
      "200\n"
     ]
    }
   ],
   "metadata": {}
  },
  {
   "cell_type": "markdown",
   "source": [
    "## Get all district for each state"
   ],
   "metadata": {}
  },
  {
   "cell_type": "code",
   "execution_count": 8,
   "source": [
    "village_list = []\r\n",
    "sub_dist_list = []\r\n",
    "dist_list = []\r\n",
    "for state_link in state_links[7:]:\r\n",
    "    \r\n",
    "    state_name = state_link.contents[0]\r\n",
    "    state_link = state_link.get('href')\r\n",
    "    \r\n",
    "    time.sleep(5)\r\n",
    "    \r\n",
    "    dist_res = get_html_from_url('https://vlist.in/' + state_link)\r\n",
    "    dist_html = dist_res.content\r\n",
    "    \r\n",
    "    dist_links = get_link_from_html_content(dist_html)\r\n",
    "    for dist_link in dist_links[1:-1]:\r\n",
    "        dist_name = dist_link.contents[0]\r\n",
    "        dist_link = dist_link.get('href')\r\n",
    "        \r\n",
    "        dist_info = {\r\n",
    "            \"state_name\": state_name,\r\n",
    "            \"dist_name\":dist_name,\r\n",
    "            \"dist_link\":dist_link\r\n",
    "        }\r\n",
    "        \r\n",
    "        dist_list.append(dist_info)\r\n",
    "        \r\n",
    "        \r\n",
    "        time.sleep(6)\r\n",
    "        \r\n",
    "        sub_dist_res = get_html_from_url('https://vlist.in/' + dist_link)\r\n",
    "        sub_dist_html = sub_dist_res.content\r\n",
    "        \r\n",
    "        sub_dist_links = get_link_from_html_content(sub_dist_html)\r\n",
    "        \r\n",
    "        for sub_dist_link in sub_dist_links[2:-1]:\r\n",
    "            sub_dist_name = sub_dist_link.contents[0]\r\n",
    "            sub_dist_link = sub_dist_link.get('href')\r\n",
    "            \r\n",
    "            \r\n",
    "            sub_dist_info = {\r\n",
    "                \"state_name\": state_name,\r\n",
    "                \"dist_name\":dist_name,\r\n",
    "                \"sub_dist_name\":sub_dist_name\r\n",
    "            }\r\n",
    "            \r\n",
    "            sub_dist_list.append(sub_dist_info)\r\n",
    "            \r\n",
    "            \r\n",
    "            time.sleep(6)\r\n",
    "            \r\n",
    "            village_res = get_html_from_url('https://vlist.in/' + sub_dist_link)\r\n",
    "            village_html = village_res.content\r\n",
    "            \r\n",
    "            village_soup = BeautifulSoup(village_html, features=\"lxml\")\r\n",
    "            village_trs = village_soup.find_all('tr')\r\n",
    "\r\n",
    "\r\n",
    "            for village_tr in village_trs[1:]:\r\n",
    "                village_tds =village_tr.find_all('td')\r\n",
    "\r\n",
    "                village_name = village_tds[1].get_text()\r\n",
    "                village_code = village_tds[2].get_text()\r\n",
    "            \r\n",
    "                village_info = {\r\n",
    "                    \"state_name\": state_name,\r\n",
    "                    \"dist_name\":dist_name,\r\n",
    "                    \"sub_dist_name\":sub_dist_name,\r\n",
    "                    \"village_name\":village_name,\r\n",
    "                    \"village_code\":village_code\r\n",
    "                }\r\n",
    "                \r\n",
    "                village_list.append(village_info)\r\n",
    "    \r\n",
    "\r\n",
    "    # dist_df=pd.DataFrame(dist_list)\r\n",
    "    # dist_df.to_csv(state_name+'_dist_list.csv')\r\n",
    "\r\n",
    "    # sub_dist_df = pd.DataFrame(sub_dist_list)\r\n",
    "    # sub_dist_df.to_csv(state_name+'_sub_dist_list.csv')\r\n",
    "\r\n",
    "    village_df = pd.DataFrame(village_list)\r\n",
    "    village_df.to_csv(state_name+'_village_list.csv')\r\n",
    "        "
   ],
   "outputs": [],
   "metadata": {}
  },
  {
   "cell_type": "code",
   "execution_count": 18,
   "source": [],
   "outputs": [],
   "metadata": {}
  },
  {
   "cell_type": "code",
   "execution_count": 19,
   "source": [],
   "outputs": [],
   "metadata": {}
  },
  {
   "cell_type": "code",
   "execution_count": null,
   "source": [],
   "outputs": [],
   "metadata": {}
  },
  {
   "cell_type": "code",
   "execution_count": null,
   "source": [],
   "outputs": [],
   "metadata": {}
  },
  {
   "cell_type": "code",
   "execution_count": 22,
   "source": [],
   "outputs": [],
   "metadata": {}
  },
  {
   "cell_type": "code",
   "execution_count": null,
   "source": [],
   "outputs": [],
   "metadata": {}
  },
  {
   "cell_type": "code",
   "execution_count": null,
   "source": [
    "\r\n",
    "    "
   ],
   "outputs": [],
   "metadata": {}
  },
  {
   "cell_type": "code",
   "execution_count": null,
   "source": [],
   "outputs": [],
   "metadata": {}
  },
  {
   "cell_type": "code",
   "execution_count": null,
   "source": [],
   "outputs": [],
   "metadata": {}
  },
  {
   "cell_type": "code",
   "execution_count": null,
   "source": [],
   "outputs": [],
   "metadata": {}
  },
  {
   "cell_type": "code",
   "execution_count": null,
   "source": [],
   "outputs": [],
   "metadata": {}
  },
  {
   "cell_type": "code",
   "execution_count": null,
   "source": [],
   "outputs": [],
   "metadata": {}
  },
  {
   "cell_type": "code",
   "execution_count": null,
   "source": [],
   "outputs": [],
   "metadata": {}
  },
  {
   "cell_type": "code",
   "execution_count": null,
   "source": [],
   "outputs": [],
   "metadata": {}
  }
 ],
 "metadata": {
  "kernelspec": {
   "display_name": "Python 3",
   "language": "python",
   "name": "python3"
  },
  "language_info": {
   "codemirror_mode": {
    "name": "ipython",
    "version": 3
   },
   "file_extension": ".py",
   "mimetype": "text/x-python",
   "name": "python",
   "nbconvert_exporter": "python",
   "pygments_lexer": "ipython3",
   "version": "3.9.5"
  }
 },
 "nbformat": 4,
 "nbformat_minor": 5
}